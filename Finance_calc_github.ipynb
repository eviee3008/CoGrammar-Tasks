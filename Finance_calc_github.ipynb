{
 "cells": [
  {
   "cell_type": "markdown",
   "metadata": {},
   "source": [
    "# Finance calculator\n",
    "\n",
    "## Overview\n",
    "\n",
    "This Python program asks the user to choose whether they would like to calculate the interest they will earn on an investmenr, or calculate the amount they would have to pay on a home loan/mortgage. Here is what the program does according to these two options:\n",
    "\n",
    "1. Investment:\n",
    "   - Asks the user to input deposit amount.\n",
    "   - Asks the user for the interest rate.\n",
    "   - Asks the user how many years they are investing for.\n",
    "   - Asks the user if the interest type is simple or compund.\n",
    "   - Based on these options, calculates and outputs the final amount after interest is accrued.\n",
    "\n",
    "2. Bond (a.k.a. mortgage/loan)\n",
    "   - Asks the user to input the monetary value of the house.\n",
    "   - Asks the user to input the interest rate.\n",
    "   - Asks the user how many years it will take to repay the loan.\n",
    "   - Based on these option, calculates and outputs what the monthly repayments amounts will be to repay the loan.\n",
    "\n",
    "The code uses try-except blocks and while loops to ensure that valid inputs are given.\n"
   ]
  },
  {
   "cell_type": "markdown",
   "metadata": {},
   "source": [
    "## Code"
   ]
  },
  {
   "cell_type": "markdown",
   "metadata": {},
   "source": [
    "Here a function, finance_calc is defined. This function takes user inputs and carries out either investment or bond calculations, as detailed in the overview:"
   ]
  },
  {
   "cell_type": "code",
   "execution_count": 9,
   "metadata": {},
   "outputs": [],
   "source": [
    "import math\n",
    "\n",
    "def finance_calc():\n",
    "    # Display finance options and ask for user input\n",
    "    print(\"-\"*6+\" Finance Calculator \"+\"-\"*6)\n",
    "    print(\"\\ninvestment\\t- to calculate the amount of interest you'll earn on your investment\")\n",
    "    print(\"bond\\t\\t- to calculate the amount you'll have to pay on a home loan\\n\")\n",
    "    print(\"-\"*32)\n",
    "\n",
    "    # Check that finance type input is a valid option\n",
    "    while True:\n",
    "        choice = input(\"Enter either 'investment' or 'bond' from the menu above to proceed: \").lower()\n",
    "        if choice != \"investment\" and choice != \"bond\":\n",
    "            print(f\"'{choice}' is an invalid input. Please try again.\")\n",
    "        else:\n",
    "            break\n",
    "\n",
    "    # Define error messages for later use        \n",
    "    error_msg = \"Error: data type input invalid\"\n",
    "    int_float_msg = \". Please input either an integer or float.\"\n",
    "    int_msg = \". Please input an integer.\"\n",
    "    data_msg = \"does not have a valid data type\"\n",
    "    intrst_high_msg = \"is too high. Please enter a number less than 100.\"\n",
    "    intrst_low_msg = \"is too low. Please enter a number equal to or greater than 0.\"\n",
    "\n",
    "\n",
    "    # If-elif block based on user finance option choice\n",
    "\n",
    "    if choice == \"investment\":\n",
    "        # If investment is selected, get a number of inputs from the user required to calculate interest\n",
    "        \n",
    "        # Use while loops with try-except-else blocks to ensure that inputs of correct data types are inputted\n",
    "        while True:\n",
    "            while True:\n",
    "                try:\n",
    "                    # Get input for deposit amount\n",
    "                    deposit_val = input(\"Please input the amount of money you are depositing: \")\n",
    "                    deposit_val = float(deposit_val)\n",
    "                    if deposit_val < 1:\n",
    "                        print(f\"{deposit_val} is too low. Please enter an amount greater than or equal to 1.\")\n",
    "                        continue\n",
    "                except ValueError:\n",
    "                    # Display error message requesting correct data type\n",
    "                    print(f\"'{deposit_val}' {data_msg} {int_float_msg}\")\n",
    "                else:\n",
    "                    break\n",
    "\n",
    "            while True:\n",
    "                try:\n",
    "                    # Get input for interest rate\n",
    "                    interest_rate = input(\"Please input the interest rate (you do not need to enter a '%' symbol): \")\n",
    "                    interest_rate = float(interest_rate)\n",
    "                    if interest_rate > 100:\n",
    "                        print(f\"{interest_rate} {intrst_high_msg}\")\n",
    "                        continue\n",
    "                    elif interest_rate < 0:\n",
    "                        print(f\"{interest_rate} {intrst_low_msg}\")\n",
    "                        continue\n",
    "                except ValueError:\n",
    "                    # Display error message requesting correct data type\n",
    "                    print(f\"'{interest_rate}' {data_msg} {int_float_msg}\")\n",
    "                else:\n",
    "                    # Calculate interest rate as a percentage once correct input has been given\n",
    "                    interest_rate = interest_rate / 100\n",
    "                    break\n",
    "\n",
    "            while True:\n",
    "                try:\n",
    "                    # Get input for number of years of investment\n",
    "                    years = input(\"Please input the number of years you plan to invest for: \")\n",
    "                    years = int(years)\n",
    "                except ValueError:\n",
    "                    # Display error message requesting correct data type\n",
    "                    print(f\"'{years}' {data_msg} {int_msg}\")\n",
    "                else:\n",
    "                    break\n",
    "\n",
    "            while True:\n",
    "                try:\n",
    "                    # Get input for interest type\n",
    "                    interest = input(\"Please input either 'simple' or 'compound' to indicate which type of interest you would like: \").lower()\n",
    "                except ValueError:\n",
    "                    # Display error message requesting correct data type\n",
    "                    print(error_msg)\n",
    "                else:\n",
    "                    # If-else statemnt to ensure that a valid option has been selected\n",
    "                    if interest != \"simple\" and interest != \"compound\":\n",
    "                        print(f\"'{interest}' is an invalid input. Please try again.\")\n",
    "                        continue\n",
    "                    else:\n",
    "                        break\n",
    "            break\n",
    "        \n",
    "        details_str = f\"\\n------ YOUR INPUTS ------\\nInitial investment amount: £{deposit_val:.2f}\\nInterest rate: {interest_rate*100:.2f}%\\nNumber of years of investment: {years}\\nType of interest: {interest}\"\n",
    "        # If-elif block based on the interest type chosen by the user\n",
    "        if interest == \"simple\":\n",
    "            # Calculate simple interest, and output final amount after investment\n",
    "            amount = deposit_val * (1 + (interest_rate * years))\n",
    "            print(details_str)\n",
    "            print('-'*25)\n",
    "            print(f\"Final amount after investment: £{amount:.2f}\")\n",
    "\n",
    "        elif interest == \"compound\":\n",
    "            # Calculate compound interest, and output final amount after investment\n",
    "            amount = deposit_val * math.pow((1 + interest_rate), years)\n",
    "            print(details_str)\n",
    "            print('-'*25)\n",
    "            print(f\"Final amount after investment: £{amount:2f}\")\n",
    "\n",
    "    elif choice == \"bond\":\n",
    "        # If bond is selected, get a number of inputs from the user required to calculate payment amount for loan\n",
    "        \n",
    "        # Use while loops to ensure that inputs of correct data types are inputted\n",
    "        while True:\n",
    "            while True:\n",
    "                try:\n",
    "                    # Get input for monetary value of the house\n",
    "                    house_val = input(\"Please input the present value of the house (you do not need to enter a currency symbol): \")\n",
    "                    house_val = float(house_val)\n",
    "                    if house_val < 1:\n",
    "                        print(f\"{deposit_val} is too low. Please enter an amount greater than or equal to 1.\")\n",
    "                        continue\n",
    "                except ValueError:\n",
    "                    # Display error message requesting correct data type\n",
    "                    print(f\"'{house_val}' {data_msg} {int_float_msg}\")\n",
    "                else:\n",
    "                    break\n",
    "\n",
    "            while True:\n",
    "                try:\n",
    "                    # Get input for yearly interest rate\n",
    "                    interest_rate = input(\"Please input the interest rate (you do not need to enter a '%' symbol): \")\n",
    "                    interest_rate = float(interest_rate)\n",
    "                    if interest_rate > 100:\n",
    "                        print(f\"{interest_rate} {intrst_high_msg}\")\n",
    "                        continue\n",
    "                    elif interest_rate < 0:\n",
    "                        print(f\"{interest_rate} {intrst_low_msg}\")\n",
    "                        continue\n",
    "                except ValueError:\n",
    "                    # Display error message requesting correct data type\n",
    "                    print(f\"'{interest_rate}' {data_msg} {int_float_msg}\")\n",
    "                else:\n",
    "                    # Calculate interest rate as a percentage once correct input has been given\n",
    "                    interest_rate = interest_rate / 100\n",
    "                    # Calculate monthly interest rate\n",
    "                    monthly_interest_rate = interest_rate / 12\n",
    "                    break\n",
    "\n",
    "            while True:\n",
    "                try:\n",
    "                    # Get input for number of years that will be taken to repay the bond\n",
    "                    bond_term_years = input(\"Please input the number of years you plan to take to repay the bond: \")\n",
    "                    bond_term_years = int(bond_term_years)\n",
    "                except ValueError:\n",
    "                    # Display error message requesting correct data type\n",
    "                    print(f\"'{bond_term_years}' {data_msg} {int_msg}\")\n",
    "                else:\n",
    "                    # Calculate the number of months it will take to repay the bond\n",
    "                    bond_term_months = bond_term_years * 12\n",
    "                    break\n",
    "            break\n",
    "\n",
    "        # Calculate monthly payment amount for loan/bond\n",
    "        details_str = f\"\\n------ YOUR INPUTS ------\\nCurrent value of the house: £{house_val:.2f}\\nInterest rate: {interest_rate*100:.2f}%\\nNumber of years of repayment: {bond_term_years}\"\n",
    "        repayment = (monthly_interest_rate * house_val) / (1 - math.pow((1 + monthly_interest_rate), -bond_term_months))\n",
    "        print(details_str)\n",
    "        print(\"-\"*25)\n",
    "        print(f\"The monthly loan/bond repayment amount will be: £{repayment:.2f}\")"
   ]
  },
  {
   "cell_type": "markdown",
   "metadata": {},
   "source": [
    "## Demonstration of code"
   ]
  },
  {
   "cell_type": "markdown",
   "metadata": {},
   "source": [
    "### Demo 1: Investment calculation with all valid inputs"
   ]
  },
  {
   "cell_type": "code",
   "execution_count": 26,
   "metadata": {},
   "outputs": [
    {
     "name": "stdout",
     "output_type": "stream",
     "text": [
      "------ Finance Calculator ------\n",
      "\n",
      "investment\t- to calculate the amount of interest you'll earn on your investment\n",
      "bond\t\t- to calculate the amount you'll have to pay on a home loan\n",
      "\n",
      "--------------------------------\n",
      "\n",
      "------ YOUR INPUTS ------\n",
      "Initial investment amount: £1000.00\n",
      "Interest rate: 4.5%\n",
      "Number of years of investment: 6\n",
      "Type of interest: simple\n",
      "-------------------------\n",
      "Final amount after investment: £1270.00\n"
     ]
    }
   ],
   "source": [
    "finance_calc()"
   ]
  },
  {
   "cell_type": "markdown",
   "metadata": {},
   "source": [
    "### Demo 2: Bond calculation with all valid inputs"
   ]
  },
  {
   "cell_type": "code",
   "execution_count": 5,
   "metadata": {},
   "outputs": [
    {
     "name": "stdout",
     "output_type": "stream",
     "text": [
      "------ Finance Calculator ------\n",
      "\n",
      "investment\t- to calculate the amount of interest you'll earn on your investment\n",
      "bond\t\t- to calculate the amount you'll have to pay on a home loan\n",
      "\n",
      "--------------------------------\n",
      "'bondd' is an invalid input. Please try again.\n",
      "egg does not have a valid data type . Please input either an integer or float.\n",
      "three does not have a valid data type . Please input either an integer or float.\n",
      "\n",
      "------ YOUR INPUTS ------\n",
      "Current value of the house: £325000.00\n",
      "Interest rate: 3.000000%\n",
      "Number of years of repayment: 20\n",
      "-------------------------\n",
      "The monthly loan/bond repayment amount will be: £1802.44\n"
     ]
    }
   ],
   "source": [
    "finance_calc()"
   ]
  },
  {
   "cell_type": "markdown",
   "metadata": {},
   "source": [
    "### Demo 3: Investment calculation with invalid inputs, followed by valid inputs"
   ]
  },
  {
   "cell_type": "code",
   "execution_count": 10,
   "metadata": {},
   "outputs": [
    {
     "name": "stdout",
     "output_type": "stream",
     "text": [
      "------ Finance Calculator ------\n",
      "\n",
      "investment\t- to calculate the amount of interest you'll earn on your investment\n",
      "bond\t\t- to calculate the amount you'll have to pay on a home loan\n",
      "\n",
      "--------------------------------\n",
      "'investtmentt' is an invalid input. Please try again.\n",
      "'10' is an invalid input. Please try again.\n",
      "'ten thousand' does not have a valid data type . Please input either an integer or float.\n",
      "'minus 20' does not have a valid data type . Please input either an integer or float.\n",
      "-20.0 is too low. Please enter a number equal to or greater than 0.\n",
      "150.0 is too high. Please enter a number less than 100.\n",
      "'compoundd' is an invalid input. Please try again.\n",
      "\n",
      "------ YOUR INPUTS ------\n",
      "Initial investment amount: £10000.00\n",
      "Interest rate: 3.50%\n",
      "Number of years of investment: 1000\n",
      "Type of interest: compound\n",
      "-------------------------\n",
      "Final amount after investment: £8716653709986367488.000000\n"
     ]
    }
   ],
   "source": [
    "finance_calc()"
   ]
  },
  {
   "cell_type": "markdown",
   "metadata": {},
   "source": [
    "### Demo 4: Bond calculation with invalid with invalid inputs, followed by valid inputs"
   ]
  },
  {
   "cell_type": "code",
   "execution_count": 8,
   "metadata": {},
   "outputs": [
    {
     "name": "stdout",
     "output_type": "stream",
     "text": [
      "------ Finance Calculator ------\n",
      "\n",
      "investment\t- to calculate the amount of interest you'll earn on your investment\n",
      "bond\t\t- to calculate the amount you'll have to pay on a home loan\n",
      "\n",
      "--------------------------------\n",
      "'bonddd' is an invalid input. Please try again.\n",
      "'three hundred thousand' does not have a valid data type . Please input either an integer or float.\n",
      "'four' does not have a valid data type . Please input either an integer or float.\n",
      "19.5 does not have a valid data type . Please input an integer.\n",
      "\n",
      "------ YOUR INPUTS ------\n",
      "Current value of the house: £325000.00\n",
      "Interest rate: 4.00%\n",
      "Number of years of repayment: 20\n",
      "-------------------------\n",
      "The monthly loan/bond repayment amount will be: £1969.44\n"
     ]
    }
   ],
   "source": [
    "finance_calc()"
   ]
  }
 ],
 "metadata": {
  "kernelspec": {
   "display_name": "Python 3",
   "language": "python",
   "name": "python3"
  },
  "language_info": {
   "codemirror_mode": {
    "name": "ipython",
    "version": 3
   },
   "file_extension": ".py",
   "mimetype": "text/x-python",
   "name": "python",
   "nbconvert_exporter": "python",
   "pygments_lexer": "ipython3",
   "version": "3.11.3"
  }
 },
 "nbformat": 4,
 "nbformat_minor": 2
}
