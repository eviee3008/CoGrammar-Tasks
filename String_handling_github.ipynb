{
 "cells": [
  {
   "cell_type": "markdown",
   "id": "b264ec85-9a8f-44ab-97a2-4c1b627d8210",
   "metadata": {},
   "source": [
    "# String Handling task\n",
    "\n",
    "## Overview\n",
    "\n",
    "This Python code takes user input, validates it to ensure it is a string,\n",
    "and then performs two modifications:\n",
    "\n",
    "1. Modifies individual characters in the string:\n",
    "   - Converts characters at even indices to uppercase.\n",
    "   - Converts characters at odd indices to lowercase.\n",
    "   - Prints the modified string.\n",
    "\n",
    "2. Modifies words in the string when split:\n",
    "   - Converts words at odd indices to uppercase.\n",
    "   - Converts words at even indices to lowercase.\n",
    "   - Prints the modified string with spaces between words.\n",
    "\n",
    "PEP-8 guidelines are followed for code structure and comments.\n",
    "\n",
    "Author: Evie England\n",
    "Date: 06/12/23"
   ]
  },
  {
   "cell_type": "markdown",
   "id": "65441ed7-c65c-49e6-a69d-529550d3c3c4",
   "metadata": {},
   "source": [
    "## Defining the function"
   ]
  },
  {
   "cell_type": "markdown",
   "id": "cc6caa0d-b2bb-4d94-af3f-5761492e69d0",
   "metadata": {},
   "source": [
    "Here the function which achieves the task is defined:"
   ]
  },
  {
   "cell_type": "code",
   "execution_count": 17,
   "id": "b53380bf-49df-48f5-88ce-95c2f2db7813",
   "metadata": {},
   "outputs": [],
   "source": [
    "def modify_string(input_string):\n",
    "    # Check if the input is not empty\n",
    "    if input_string.strip():\n",
    "        alt_str = str(input_string)\n",
    "    else:\n",
    "        return \"Error. Please input a non-empty string.\"\n",
    "\n",
    "    # Define a list to store the characters as they are modified\n",
    "    modified_characters = []\n",
    "\n",
    "    # Use a for loop that iterates over the characters in the given string\n",
    "    for i in range(len(alt_str)):\n",
    "        # If the current iteration of the loop is even\n",
    "        if i % 2 == 0:\n",
    "            # Convert the current character to upper case and append it to the modified characters list\n",
    "            modified_characters.append(alt_str[i].upper())\n",
    "        # If the current iteration is odd\n",
    "        else:\n",
    "            # Convert the current character to lower case and append it to the modified characters list\n",
    "            modified_characters.append(alt_str[i].lower())\n",
    "\n",
    "    # Join the items in the modified characters list and return as a string\n",
    "    modified_string_characters = \"\".join(modified_characters)\n",
    "\n",
    "    # Split the string into words and store them in a list\n",
    "    split_str = alt_str.split()\n",
    "\n",
    "    # Define a list to store the words as they are modified\n",
    "    modified_words = []\n",
    "\n",
    "    # Use a for loop that tracks both the index and the current word in the split_str list\n",
    "    for index, word in enumerate(split_str):\n",
    "        # If the current index in the list is odd\n",
    "        if index % 2 != 0:\n",
    "            # Convert the current word to upper case and append it to the modified words list\n",
    "            modified_words.append(word.upper())\n",
    "        # If the current index in the list is even\n",
    "        else:\n",
    "            # Convert the current word to lower case and append it to the modified words list\n",
    "            modified_words.append(word.lower())\n",
    "\n",
    "    # Join the items in the modified words list and return as a string with spaces between them\n",
    "    modified_string_words = \" \".join(modified_words)\n",
    "    \n",
    "    mod_characters_print = \"\\nModified Characters:\"+ modified_string_characters\n",
    "    mod_words_print = \"Modified Words:\"+ modified_string_words\n",
    "    \n",
    "    print (mod_characters_print)\n",
    "    print (mod_words_print)\n",
    "    print (\"\\n\")"
   ]
  },
  {
   "cell_type": "markdown",
   "id": "cd9be8af-404d-4e29-bbc6-c31d6a70b94f",
   "metadata": {},
   "source": [
    "## Calling the function"
   ]
  },
  {
   "cell_type": "markdown",
   "id": "ed3196a3-4be4-4d68-bd3b-7db100cfd13f",
   "metadata": {},
   "source": [
    "Now lets call the function using a commonly used sentence:"
   ]
  },
  {
   "cell_type": "code",
   "execution_count": 18,
   "id": "f13b4b29-cdc2-4d81-b0c0-163607cf8e9b",
   "metadata": {},
   "outputs": [
    {
     "name": "stdin",
     "output_type": "stream",
     "text": [
      "Please input a string:  the quick brown fox jumps over the lazy dog\n"
     ]
    },
    {
     "name": "stdout",
     "output_type": "stream",
     "text": [
      "\n",
      "Modified Characters:ThE QuIcK BrOwN FoX JuMpS OvEr tHe lAzY DoG\n",
      "Modified Words:the QUICK brown FOX jumps OVER the LAZY dog\n",
      "\n",
      "\n"
     ]
    }
   ],
   "source": [
    "# Example of using the function\n",
    "modify_string(input(\"Please input a string: \"))"
   ]
  },
  {
   "cell_type": "markdown",
   "id": "33e72440-a4af-426a-8367-18faf59ba6ac",
   "metadata": {},
   "source": [
    "You can see how we have successfully modified the inputted string.\n",
    "\n",
    "Now lets try another sentence in all caps:"
   ]
  },
  {
   "cell_type": "code",
   "execution_count": 19,
   "id": "ddfca277-a63f-415e-809e-57dad44ddbc6",
   "metadata": {},
   "outputs": [
    {
     "name": "stdin",
     "output_type": "stream",
     "text": [
      "Please input a string:  THIS PROGRAM IS A GOOD EXAMPLE OF STRING HANDLING IN PYTHON\n"
     ]
    },
    {
     "name": "stdout",
     "output_type": "stream",
     "text": [
      "\n",
      "Modified Characters:ThIs pRoGrAm iS A GoOd eXaMpLe oF StRiNg hAnDlInG In pYtHoN\n",
      "Modified Words:this PROGRAM is A good EXAMPLE of STRING handling IN python\n",
      "\n",
      "\n"
     ]
    }
   ],
   "source": [
    "modify_string(input(\"Please input a string: \"))"
   ]
  },
  {
   "cell_type": "markdown",
   "id": "6e36a898-6d3d-4abd-b6a1-5c3eb71d523e",
   "metadata": {},
   "source": [
    "You can see how the function can handle string inputs in a variety of cases.\n",
    "\n",
    "Lets try a sentence in all lower case to further exemplify this:"
   ]
  },
  {
   "cell_type": "code",
   "execution_count": 20,
   "id": "5bf00601-43a9-43c5-8bc1-016926161514",
   "metadata": {},
   "outputs": [
    {
     "name": "stdin",
     "output_type": "stream",
     "text": [
      "Please input a string:  this program is a good example of string handling, but there's no need to shout\n"
     ]
    },
    {
     "name": "stdout",
     "output_type": "stream",
     "text": [
      "\n",
      "Modified Characters:ThIs pRoGrAm iS A GoOd eXaMpLe oF StRiNg hAnDlInG, bUt tHeRe's nO NeEd tO ShOuT\n",
      "Modified Words:this PROGRAM is A good EXAMPLE of STRING handling, BUT there's NO need TO shout\n",
      "\n",
      "\n"
     ]
    }
   ],
   "source": [
    "modify_string(input(\"Please input a string: \"))"
   ]
  },
  {
   "cell_type": "markdown",
   "id": "93d8b596-08e8-42f4-b5be-2b49dd88445b",
   "metadata": {},
   "source": [
    "## Conclusion\n",
    "\n",
    "In conclusion, this code shows us how functions in Python can be defined and take a variety of input strings. It shows us how these strings can be modified using a variety of string handling methods.\n",
    "\n",
    "Thanks for reading!"
   ]
  }
 ],
 "metadata": {
  "kernelspec": {
   "display_name": "Python 3 (ipykernel)",
   "language": "python",
   "name": "python3"
  },
  "language_info": {
   "codemirror_mode": {
    "name": "ipython",
    "version": 3
   },
   "file_extension": ".py",
   "mimetype": "text/x-python",
   "name": "python",
   "nbconvert_exporter": "python",
   "pygments_lexer": "ipython3",
   "version": "3.10.9"
  }
 },
 "nbformat": 4,
 "nbformat_minor": 5
}
